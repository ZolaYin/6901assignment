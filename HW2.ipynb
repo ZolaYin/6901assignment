{
 "cells": [
  {
   "cell_type": "markdown",
   "id": "786a90d2-7a48-45a3-b4b6-9d911fbb392f",
   "metadata": {},
   "source": [
    "## Part I: Lists and Loops"
   ]
  },
  {
   "cell_type": "markdown",
   "id": "fd965c23-c80c-4f44-899c-d1ab11b5668f",
   "metadata": {},
   "source": [
    "1) Create a list with the names of every planet in the solar system (in order)"
   ]
  },
  {
   "cell_type": "code",
   "execution_count": 1,
   "id": "67c52f1f-6a9b-4a80-8772-a7d74a924a72",
   "metadata": {},
   "outputs": [
    {
     "data": {
      "text/plain": [
       "list"
      ]
     },
     "execution_count": 1,
     "metadata": {},
     "output_type": "execute_result"
    }
   ],
   "source": [
    "planets = [\"Mercury\", \"Venus\", \"Earth\", \"Mars\", \"Jupiter\", \"Saturn\", \"Uranus\", \"Neptune\"]\n",
    "type(planets)"
   ]
  },
  {
   "cell_type": "markdown",
   "id": "090e7256-cf6a-4138-8bd3-a42b79cee5bc",
   "metadata": {},
   "source": [
    "2) Have Python tell you how many planets there are by examining your list"
   ]
  },
  {
   "cell_type": "code",
   "execution_count": 2,
   "id": "4fb15d01-eb93-4424-9357-746c7a6a3155",
   "metadata": {},
   "outputs": [
    {
     "data": {
      "text/plain": [
       "8"
      ]
     },
     "execution_count": 2,
     "metadata": {},
     "output_type": "execute_result"
    }
   ],
   "source": [
    "planet_count = len(planets)\n",
    "planet_count"
   ]
  },
  {
   "cell_type": "markdown",
   "id": "448fa13a-3ef2-4023-bce7-e3c5084b9b28",
   "metadata": {},
   "source": [
    "3) Use slicing to display the first four planets (the rocky planets)"
   ]
  },
  {
   "cell_type": "code",
   "execution_count": 3,
   "id": "4cc18271-4542-4850-a426-1e08fe5f651e",
   "metadata": {},
   "outputs": [
    {
     "data": {
      "text/plain": [
       "['Mercury', 'Venus', 'Earth', 'Mars']"
      ]
     },
     "execution_count": 3,
     "metadata": {},
     "output_type": "execute_result"
    }
   ],
   "source": [
    "rocky_planets = planets[:4]\n",
    "rocky_planets"
   ]
  },
  {
   "cell_type": "markdown",
   "id": "f1a5f3ec-8792-47cd-a4f4-0e4180927df2",
   "metadata": {},
   "source": [
    "4) Iterate through your planets and print the planet name only if it has an s at the end"
   ]
  },
  {
   "cell_type": "code",
   "execution_count": 5,
   "id": "982b93c3-67cf-4705-8391-1459e69436ef",
   "metadata": {},
   "outputs": [
    {
     "data": {
      "text/plain": [
       "['Venus', 'Mars', 'Uranus']"
      ]
     },
     "execution_count": 5,
     "metadata": {},
     "output_type": "execute_result"
    }
   ],
   "source": [
    "planets_endwith_s = []\n",
    "for planet in planets:\n",
    "    if planet.endswith(\"s\"):\n",
    "        planets_endwith_s.append(planet)\n",
    "\n",
    "planets_endwith_s"
   ]
  },
  {
   "cell_type": "markdown",
   "id": "309bbd30-d0fb-4171-93f1-6004e396fd97",
   "metadata": {},
   "source": [
    "## Part II: Dictionaries"
   ]
  },
  {
   "cell_type": "markdown",
   "id": "e512a8ea-4404-46b6-90f6-9b193b6bb9cb",
   "metadata": {},
   "source": [
    "1) Now create a dictionary that maps each planet name to its mass"
   ]
  },
  {
   "cell_type": "code",
   "execution_count": 6,
   "id": "0eb7f677-03d2-4c03-ac4d-32b92bfb215b",
   "metadata": {},
   "outputs": [],
   "source": [
    "planet_masses = {\n",
    "    \"Mercury\": 0.330,\n",
    "    \"Venus\": 4.87,\n",
    "    \"Earth\": 5.97,\n",
    "    \"Mars\": 0.642,\n",
    "    \"Jupiter\": 1898,\n",
    "    \"Saturn\": 568,\n",
    "    \"Uranus\": 86.8,\n",
    "    \"Neptune\": 102\n",
    "}"
   ]
  },
  {
   "cell_type": "markdown",
   "id": "2f6d3c07-6cae-431f-8a42-6c380cf30d1c",
   "metadata": {},
   "source": [
    "2) Use your dictionary to look up Earth’s mass"
   ]
  },
  {
   "cell_type": "code",
   "execution_count": 7,
   "id": "b3d75223-e376-4aad-aba1-0e2e1b840113",
   "metadata": {},
   "outputs": [
    {
     "name": "stdout",
     "output_type": "stream",
     "text": [
      "Earth's mass： 5.97 x 10^24 kg\n"
     ]
    }
   ],
   "source": [
    "print(\"Earth's mass：\", planet_masses[\"Earth\"], \"x 10^24 kg\")"
   ]
  },
  {
   "cell_type": "markdown",
   "id": "4c59063f-5594-4e46-93dc-85ee35340401",
   "metadata": {},
   "source": [
    "3) Loop through the data and create a list of planets whose mass is greater than 100 x 10^24 kg"
   ]
  },
  {
   "cell_type": "code",
   "execution_count": 8,
   "id": "7ce62d9a-73a2-4914-b1f3-d9065981c6c5",
   "metadata": {},
   "outputs": [
    {
     "name": "stdout",
     "output_type": "stream",
     "text": [
      "Plant's mass is greater than 100 x 10^24 kg： ['Jupiter', 'Saturn', 'Neptune']\n"
     ]
    }
   ],
   "source": [
    "heavy_planets = []\n",
    "for planet, mass in planet_masses.items():\n",
    "    if mass > 100:\n",
    "        heavy_planets.append(planet)\n",
    "\n",
    "print(\"Plant's mass is greater than 100 x 10^24 kg：\", heavy_planets)"
   ]
  },
  {
   "cell_type": "markdown",
   "id": "98fdb252-2ce1-4fa8-b017-ca6aa8a9cfcd",
   "metadata": {},
   "source": [
    "4) Now add pluto to your dictionary"
   ]
  },
  {
   "cell_type": "code",
   "execution_count": 9,
   "id": "d3a223c2-e5ed-40b0-b860-8a8b4c226f3b",
   "metadata": {},
   "outputs": [
    {
     "data": {
      "text/plain": [
       "{'Mercury': 0.33,\n",
       " 'Venus': 4.87,\n",
       " 'Earth': 5.97,\n",
       " 'Mars': 0.642,\n",
       " 'Jupiter': 1898,\n",
       " 'Saturn': 568,\n",
       " 'Uranus': 86.8,\n",
       " 'Neptune': 102,\n",
       " 'Pluto': 0.013}"
      ]
     },
     "execution_count": 9,
     "metadata": {},
     "output_type": "execute_result"
    }
   ],
   "source": [
    "planet_masses['Pluto'] = 0.013\n",
    "planet_masses"
   ]
  },
  {
   "cell_type": "markdown",
   "id": "ba9cf7d1-bb4a-4ac5-967b-adde72a423eb",
   "metadata": {},
   "source": [
    "## Part III: Functions"
   ]
  },
  {
   "cell_type": "markdown",
   "id": "3aaf7678-1fe8-47b6-87b7-1d0bb4760ae1",
   "metadata": {},
   "source": [
    "1. Write a function to convert temperature from kelvin to celsiusn"
   ]
  },
  {
   "cell_type": "code",
   "execution_count": 10,
   "id": "32f8abc5-5eb8-4fe3-b8e9-1898377292ae",
   "metadata": {},
   "outputs": [],
   "source": [
    "def convert_temp(temp, celsius=False):\n",
    "    \"\"\"Converts temperature between Kelvin and Celsius.\"\"\"\n",
    "    if celsius:\n",
    "        return temp - 273.15  # Kelvin to Celsius\n",
    "    else:\n",
    "        return temp + 273.15  # Celsius to Kelvin\n"
   ]
  },
  {
   "cell_type": "markdown",
   "id": "e0ed4986-5251-403a-89f0-3a22b9ef3854",
   "metadata": {},
   "source": [
    "2. Write a function to convert temperature to fahrenheit"
   ]
  },
  {
   "cell_type": "code",
   "execution_count": 11,
   "id": "4402e69d-3a32-4e43-a926-bad095c0233f",
   "metadata": {},
   "outputs": [],
   "source": [
    "def temp_to_fahrenheit(temp, celsius=True):\n",
    "    \"\"\"Convert temperature to Fahrenheit.\"\"\"\n",
    "    if celsius:\n",
    "        result = temp * (9/5) + 32  # Celsius to Fahrenheit\n",
    "    else:\n",
    "        # Assuming temp is in Kelvin, convert to Celsius first\n",
    "        temp = convert_temp(temp, celsius=True)\n",
    "        result = temp * (9/5) + 32\n",
    "    return str(result) + ' F°'\n"
   ]
  },
  {
   "cell_type": "markdown",
   "id": "45815444-add8-4464-b02d-f761b9b18de4",
   "metadata": {},
   "source": [
    "3) Check that the outputs are sensible"
   ]
  },
  {
   "cell_type": "code",
   "execution_count": 12,
   "id": "706a43fd-df38-4315-bf87-01e818073d50",
   "metadata": {},
   "outputs": [
    {
     "name": "stdout",
     "output_type": "stream",
     "text": [
      "100°C to Fahrenheit: 212.0 F°\n",
      "273.15K to Fahrenheit: 32.0 F°\n"
     ]
    }
   ],
   "source": [
    "print(\"100°C to Fahrenheit:\", temp_to_fahrenheit(100, celsius=True))\n",
    "print(\"273.15K to Fahrenheit:\", temp_to_fahrenheit(273.15, celsius=False))"
   ]
  },
  {
   "cell_type": "markdown",
   "id": "d52461fe-7e3a-48ed-a40c-be503fd97e44",
   "metadata": {},
   "source": [
    "4) Now write a function that converts from fahrenheit"
   ]
  },
  {
   "cell_type": "code",
   "execution_count": 13,
   "id": "df75c258-bd1c-4e47-a39d-6d688c4d3a4a",
   "metadata": {},
   "outputs": [],
   "source": [
    "def fahrenheit_to_temp(fahrenheit, kelvin=False):\n",
    "    \"\"\"Convert temperature from Fahrenheit to either Celsius or Kelvin.\"\"\"\n",
    "    result = (fahrenheit - 32) * 5/9  # Convert from Fahrenheit to Celsius\n",
    "    if kelvin:\n",
    "        result = convert_temp(result)  # Convert from Celsius to Kelvin\n",
    "    append_unit = ' K' if kelvin else ' C°'\n",
    "    return str(result) + append_unit"
   ]
  },
  {
   "cell_type": "code",
   "execution_count": 14,
   "id": "1546fd11-e20a-4b7e-9e5f-781b300a051c",
   "metadata": {},
   "outputs": [
    {
     "name": "stdout",
     "output_type": "stream",
     "text": [
      "212°F to Celsius: 100.0 C°\n",
      "32°F to Kelvin: 273.15 K\n"
     ]
    }
   ],
   "source": [
    "print(\"212°F to Celsius:\", fahrenheit_to_temp(212, kelvin=False)) \n",
    "print(\"32°F to Kelvin:\", fahrenheit_to_temp(32, kelvin=True)) "
   ]
  },
  {
   "cell_type": "markdown",
   "id": "fb6d4a4a-84f4-4dcc-ae62-5f7dbd54c0ee",
   "metadata": {},
   "source": [
    "5) Write a function that takes two arguments (feet and inches) and returns height in meters"
   ]
  },
  {
   "cell_type": "code",
   "execution_count": 15,
   "id": "224f2c0e-1826-4f19-bcb9-6012c3f571d6",
   "metadata": {},
   "outputs": [
    {
     "data": {
      "text/plain": [
       "0.6858"
      ]
     },
     "execution_count": 15,
     "metadata": {},
     "output_type": "execute_result"
    }
   ],
   "source": [
    "def feet_inches_to_meters(feet, inches):\n",
    "    \"\"\"Convert height from feet and inches to meters.\"\"\"\n",
    "    total_inches = feet * 12 + inches\n",
    "    meters = total_inches * 0.0254\n",
    "    return meters\n",
    "\n",
    "feet_inches_to_meters(2, 3)"
   ]
  },
  {
   "cell_type": "markdown",
   "id": "5d8f72d2-0206-4603-92ff-f75de62f1726",
   "metadata": {},
   "source": [
    "6. Write a function takes one argument (height in meters) and returns two arguments (feet and inches)"
   ]
  },
  {
   "cell_type": "code",
   "execution_count": 16,
   "id": "da93d155-dc3f-4c1e-8b5d-ec9e086a0c3d",
   "metadata": {},
   "outputs": [
    {
     "data": {
      "text/plain": [
       "(9, 10.110236220472444)"
      ]
     },
     "execution_count": 16,
     "metadata": {},
     "output_type": "execute_result"
    }
   ],
   "source": [
    "def meters_to_feet_inches(meters):\n",
    "    \"\"\"Convert height from meters to feet and inches.\"\"\"\n",
    "    total_inches = meters / 0.0254\n",
    "    feet = int(total_inches // 12)\n",
    "    inches = total_inches % 12\n",
    "\n",
    "    return feet, inches\n",
    "\n",
    "meters_to_feet_inches(3)"
   ]
  },
  {
   "cell_type": "markdown",
   "id": "7d769867-b34a-41e0-9ca1-dd9269b1a7dc",
   "metadata": {},
   "source": [
    "7) Verify that the “round trip” conversion from and back to meters is consistent"
   ]
  },
  {
   "cell_type": "code",
   "execution_count": 17,
   "id": "a829d003-b903-4d0b-af49-c185c94c79a5",
   "metadata": {},
   "outputs": [
    {
     "data": {
      "text/plain": [
       "3.0"
      ]
     },
     "execution_count": 17,
     "metadata": {},
     "output_type": "execute_result"
    }
   ],
   "source": [
    "meter1 = 3\n",
    "feet, inches = meters_to_feet_inches(meter1)\n",
    "feet_inches_to_meters(feet, inches)\n"
   ]
  },
  {
   "cell_type": "code",
   "execution_count": 18,
   "id": "f5352837-c960-4adf-96d5-cbb495ba6965",
   "metadata": {},
   "outputs": [
    {
     "data": {
      "text/plain": [
       "33.0"
      ]
     },
     "execution_count": 18,
     "metadata": {},
     "output_type": "execute_result"
    }
   ],
   "source": [
    "meter2 = 33\n",
    "feet, inches = meters_to_feet_inches(meter2)\n",
    "feet_inches_to_meters(feet, inches)"
   ]
  },
  {
   "cell_type": "code",
   "execution_count": 19,
   "id": "5e25aa57-4751-47a4-8887-242c92d43a15",
   "metadata": {},
   "outputs": [
    {
     "data": {
      "text/plain": [
       "333.0"
      ]
     },
     "execution_count": 19,
     "metadata": {},
     "output_type": "execute_result"
    }
   ],
   "source": [
    "meter3 = 333\n",
    "feet, inches = meters_to_feet_inches(meter3)\n",
    "feet_inches_to_meters(feet, inches)"
   ]
  }
 ],
 "metadata": {
  "kernelspec": {
   "display_name": "Python 3 (ipykernel)",
   "language": "python",
   "name": "python3"
  },
  "language_info": {
   "codemirror_mode": {
    "name": "ipython",
    "version": 3
   },
   "file_extension": ".py",
   "mimetype": "text/x-python",
   "name": "python",
   "nbconvert_exporter": "python",
   "pygments_lexer": "ipython3",
   "version": "3.11.7"
  }
 },
 "nbformat": 4,
 "nbformat_minor": 5
}
